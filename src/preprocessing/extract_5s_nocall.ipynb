{
 "cells": [
  {
   "cell_type": "code",
   "execution_count": 80,
   "metadata": {},
   "outputs": [],
   "source": [
    "import warnings\n",
    "from pathlib import Path\n",
    "from joblib import delayed, Parallel\n",
    "\n",
    "import librosa\n",
    "import audioread\n",
    "import soundfile as sf\n",
    "\n",
    "import pandas as pd\n",
    "\n",
    "import IPython\n",
    "from scipy.io import wavfile\n",
    "import scipy.signal\n",
    "import numpy as np\n",
    "import matplotlib.pyplot as plt\n",
    "from tqdm import tqdm\n",
    "%matplotlib inline\n"
   ]
  },
  {
   "cell_type": "code",
   "execution_count": 2,
   "metadata": {},
   "outputs": [],
   "source": [
    "TRAIN_AUDIO_DIR = Path(\"../../../input/birdsong-recognition/train_audio_resampled/\")\n",
    "TRAIN_5S_DIR = Path(\"../../../input/birdsong-recognition/train_audio_5s/\")\n",
    "\n",
    "NUM_THREAD = 8  # for joblib.Parallel\n",
    "\n",
    "# # read train.csv\n",
    "train = pd.read_csv(\"../../../input/birdsong-recognition/train_audio_resampled/train_mod.csv\")\n",
    "\n",
    "# # extract \"ebird_code\" and  \"filename\"\n",
    "train_audio_infos = train[[\"ebird_code\", \"resampled_filename\"]].values.tolist()\n",
    "\n",
    "# # make directories for saving denoised audio\n",
    "TRAIN_5S_DIR.mkdir(parents=True)\n",
    "for ebird_code in train.ebird_code.unique():\n",
    "    ebird_dir = TRAIN_5S_DIR / ebird_code\n",
    "    ebird_dir.mkdir()"
   ]
  },
  {
   "cell_type": "code",
   "execution_count": 14,
   "metadata": {},
   "outputs": [
    {
     "data": {
      "text/plain": [
       "264"
      ]
     },
     "execution_count": 14,
     "metadata": {},
     "output_type": "execute_result"
    }
   ],
   "source": [
    "# define <ebirdcode: [filename1, filename2, ...]> dictionary\n",
    "#    -> (excluding 'nocall')\n",
    "\n",
    "file_dict = {}\n",
    "for ebird_code, file_name in train_audio_infos:\n",
    "    if(ebird_code == 'nocall'): continue\n",
    "    \n",
    "    if(file_dict.get(ebird_code) is None):\n",
    "        file_dict[ebird_code] = [file_name]\n",
    "    else:\n",
    "        file_dict[ebird_code].append(file_name)\n",
    "\n",
    "len(file_dict)"
   ]
  },
  {
   "cell_type": "code",
   "execution_count": 120,
   "metadata": {},
   "outputs": [],
   "source": [
    "# define \"nocall extractor\"\n",
    "PERIOD = 5 # in second\n",
    "ISCALLING = 20 # coefficient decides 'iscalling'\n",
    "NOCALL_DIR = TRAIN_5S_DIR / 'nocall'\n",
    "NOCALL_SIZE = 60 # nocall sequence length in second\n",
    "THR = NOCALL_SIZE // PERIOD # for ligal threshold\n",
    "fn_nocall = []\n",
    "\n",
    "\n",
    "def extract(ebird_code):\n",
    "    out_dir = TRAIN_5S_DIR / ebird_code\n",
    "    calling = np.empty(0) # calling audio data list\n",
    "    nocalling = np.empty(0) # no calling audio data list\n",
    "    num_files = len(file_dict[ebird_code])\n",
    "    \n",
    "    \n",
    "    for file_name in tqdm(file_dict[ebird_code]):\n",
    "        data, sr = sf.read(TRAIN_AUDIO_DIR / ebird_code / file_name)\n",
    "        seq_in_sec = data.shape[0] // sr # sequence length in second\n",
    "        n_proc = seq_in_sec // PERIOD # number of extractions\n",
    "        \n",
    "        for i in range(n_proc):\n",
    "            start = i * sr * PERIOD\n",
    "            end = start + sr*PERIOD\n",
    "            \n",
    "            clip = data[start: end] # [0, 5), [5, 10), ...\n",
    "            mx = np.abs(clip).max()\n",
    "            mean = np.abs(clip).mean()\n",
    "            \n",
    "            if(ISCALLING * mean < mx): # is calling!\n",
    "                calling = np.r_[calling, clip]\n",
    "#                 print('1', end='')\n",
    "            else:\n",
    "                nocalling = np.r_[nocalling, clip]\n",
    "#                 print('2', end='')\n",
    "    \n",
    "    print(ebird_code, \n",
    "          \"---calling:\", calling.shape[0]//sr, \n",
    "          \"nocall:\", nocalling.shape[0]//sr, \"\\n\")\n",
    "\n",
    "    ## generate 'calling' files\n",
    "    n_blocks = calling.shape[0] // sr // PERIOD # number of 'calling' blocks in 5s range\n",
    "    blocks_perfile = n_blocks // num_files # generate the same num of files\n",
    "    \n",
    "    seq_len = blocks_perfile * sr * PERIOD\n",
    "    for i, fn in enumerate(file_dict[ebird_code]):\n",
    "        start = seq_len * i\n",
    "        end = start + seq_len\n",
    "        \n",
    "        if(i == num_files-1): data = calling[start: ] # the last file\n",
    "        else: data = calling[start: end]\n",
    "        \n",
    "        sf.write(out_dir / fn, data, sr) # save in the same name\n",
    "    \n",
    "    ## generate 'nocall' files\n",
    "    '''\n",
    "    randomly choose 3 indices (avoid overlapping)\n",
    "    clip 1 min sequences from the indices\n",
    "    save the clip in the global 'nocall' directory\n",
    "    '''\n",
    "\n",
    "    n_blocks_nocall = nocalling.shape[0] // sr // PERIOD # number of 'nocall' blocks in 5s range\n",
    "    if(n_blocks_nocall < 3*(THR+2)): # too small 'nocall' blocks\n",
    "        if(nocalling.shape[0] == 0): return\n",
    "        sf.write(NOCALL_DIR / ebird_code / '.wav', nocalling, sr)\n",
    "        return\n",
    "    \n",
    "    indices = (-1, -1, -1)\n",
    "    def legal(idx):\n",
    "        return abs(idx[0]-idx[1])>THR and abs(idx[1]-idx[2])>THR and abs(idx[2]-idx[0])>THR\n",
    "    \n",
    "    while(not legal(indices)):\n",
    "        indices = np.random.choice(n_blocks_nocall-13, 3)\n",
    "    \n",
    "    for idx in indices:\n",
    "        start = idx * sr * PERIOD\n",
    "        end = start + NOCALL_SIZE*sr\n",
    "        \n",
    "        data = nocalling[start: end]\n",
    "        fn = ebird_code + str(idx) + '.wav'\n",
    "        sf.write(NOCALL_DIR / fn, data, sr)\n",
    "        fn_nocall.append(fn)\n"
   ]
  },
  {
   "cell_type": "code",
   "execution_count": 119,
   "metadata": {},
   "outputs": [
    {
     "name": "stderr",
     "output_type": "stream",
     "text": [
      "100%|██████████| 100/100 [02:57<00:00,  1.78s/it]\n"
     ]
    },
    {
     "name": "stdout",
     "output_type": "stream",
     "text": [
      "aldfly ---calling: 4270 nocall: 1860 \n",
      "\n"
     ]
    },
    {
     "name": "stderr",
     "output_type": "stream",
     "text": [
      "100%|██████████| 38/38 [00:07<00:00,  5.32it/s]\n"
     ]
    },
    {
     "name": "stdout",
     "output_type": "stream",
     "text": [
      "ameavo ---calling: 565 nocall: 715 \n",
      "\n"
     ]
    },
    {
     "name": "stderr",
     "output_type": "stream",
     "text": [
      "100%|██████████| 44/44 [00:46<00:00,  1.06s/it]\n"
     ]
    },
    {
     "name": "stdout",
     "output_type": "stream",
     "text": [
      "amebit ---calling: 535 nocall: 2310 \n",
      "\n"
     ]
    },
    {
     "name": "stderr",
     "output_type": "stream",
     "text": [
      " 24%|██▍       | 24/100 [00:06<00:21,  3.54it/s]\n"
     ]
    },
    {
     "ename": "KeyboardInterrupt",
     "evalue": "",
     "output_type": "error",
     "traceback": [
      "\u001b[0;31m---------------------------------------------------------------------------\u001b[0m",
      "\u001b[0;31mKeyboardInterrupt\u001b[0m                         Traceback (most recent call last)",
      "\u001b[0;32m<ipython-input-119-6f1b645dc8bf>\u001b[0m in \u001b[0;36m<module>\u001b[0;34m\u001b[0m\n\u001b[1;32m      6\u001b[0m         \u001b[0;32mif\u001b[0m\u001b[0;34m(\u001b[0m\u001b[0mdebug\u001b[0m\u001b[0;34m)\u001b[0m\u001b[0;34m:\u001b[0m \u001b[0;32mbreak\u001b[0m\u001b[0;34m\u001b[0m\u001b[0;34m\u001b[0m\u001b[0m\n\u001b[1;32m      7\u001b[0m \u001b[0;34m\u001b[0m\u001b[0m\n\u001b[0;32m----> 8\u001b[0;31m \u001b[0msolve\u001b[0m\u001b[0;34m(\u001b[0m\u001b[0;34m)\u001b[0m\u001b[0;34m\u001b[0m\u001b[0;34m\u001b[0m\u001b[0m\n\u001b[0m",
      "\u001b[0;32m<ipython-input-119-6f1b645dc8bf>\u001b[0m in \u001b[0;36msolve\u001b[0;34m(debug)\u001b[0m\n\u001b[1;32m      2\u001b[0m     \u001b[0;32mfor\u001b[0m \u001b[0mebird_code\u001b[0m \u001b[0;32min\u001b[0m \u001b[0mtrain\u001b[0m\u001b[0;34m.\u001b[0m\u001b[0mebird_code\u001b[0m\u001b[0;34m.\u001b[0m\u001b[0munique\u001b[0m\u001b[0;34m(\u001b[0m\u001b[0;34m)\u001b[0m\u001b[0;34m:\u001b[0m\u001b[0;34m\u001b[0m\u001b[0;34m\u001b[0m\u001b[0m\n\u001b[1;32m      3\u001b[0m         \u001b[0;32mif\u001b[0m\u001b[0;34m(\u001b[0m\u001b[0mebird_code\u001b[0m \u001b[0;34m==\u001b[0m \u001b[0;34m'nocall'\u001b[0m\u001b[0;34m)\u001b[0m\u001b[0;34m:\u001b[0m \u001b[0;32mcontinue\u001b[0m\u001b[0;34m\u001b[0m\u001b[0;34m\u001b[0m\u001b[0m\n\u001b[0;32m----> 4\u001b[0;31m         \u001b[0mextract\u001b[0m\u001b[0;34m(\u001b[0m\u001b[0mebird_code\u001b[0m\u001b[0;34m)\u001b[0m\u001b[0;34m\u001b[0m\u001b[0;34m\u001b[0m\u001b[0m\n\u001b[0m\u001b[1;32m      5\u001b[0m \u001b[0;34m\u001b[0m\u001b[0m\n\u001b[1;32m      6\u001b[0m         \u001b[0;32mif\u001b[0m\u001b[0;34m(\u001b[0m\u001b[0mdebug\u001b[0m\u001b[0;34m)\u001b[0m\u001b[0;34m:\u001b[0m \u001b[0;32mbreak\u001b[0m\u001b[0;34m\u001b[0m\u001b[0;34m\u001b[0m\u001b[0m\n",
      "\u001b[0;32m<ipython-input-118-43a27778dc25>\u001b[0m in \u001b[0;36mextract\u001b[0;34m(ebird_code)\u001b[0m\n\u001b[1;32m     32\u001b[0m \u001b[0;31m#                 print('1', end='')\u001b[0m\u001b[0;34m\u001b[0m\u001b[0;34m\u001b[0m\u001b[0;34m\u001b[0m\u001b[0m\n\u001b[1;32m     33\u001b[0m             \u001b[0;32melse\u001b[0m\u001b[0;34m:\u001b[0m\u001b[0;34m\u001b[0m\u001b[0;34m\u001b[0m\u001b[0m\n\u001b[0;32m---> 34\u001b[0;31m                 \u001b[0mnocalling\u001b[0m \u001b[0;34m=\u001b[0m \u001b[0mnp\u001b[0m\u001b[0;34m.\u001b[0m\u001b[0mr_\u001b[0m\u001b[0;34m[\u001b[0m\u001b[0mnocalling\u001b[0m\u001b[0;34m,\u001b[0m \u001b[0mclip\u001b[0m\u001b[0;34m]\u001b[0m\u001b[0;34m\u001b[0m\u001b[0;34m\u001b[0m\u001b[0m\n\u001b[0m\u001b[1;32m     35\u001b[0m \u001b[0;31m#                 print('2', end='')\u001b[0m\u001b[0;34m\u001b[0m\u001b[0;34m\u001b[0m\u001b[0;34m\u001b[0m\u001b[0m\n\u001b[1;32m     36\u001b[0m \u001b[0;34m\u001b[0m\u001b[0m\n",
      "\u001b[0;32m/usr/local/lib/python3.6/dist-packages/numpy/lib/index_tricks.py\u001b[0m in \u001b[0;36m__getitem__\u001b[0;34m(self, key)\u001b[0m\n\u001b[1;32m    404\u001b[0m                 \u001b[0mobjs\u001b[0m\u001b[0;34m[\u001b[0m\u001b[0mk\u001b[0m\u001b[0;34m]\u001b[0m \u001b[0;34m=\u001b[0m \u001b[0mobjs\u001b[0m\u001b[0;34m[\u001b[0m\u001b[0mk\u001b[0m\u001b[0;34m]\u001b[0m\u001b[0;34m.\u001b[0m\u001b[0mastype\u001b[0m\u001b[0;34m(\u001b[0m\u001b[0mfinal_dtype\u001b[0m\u001b[0;34m)\u001b[0m\u001b[0;34m\u001b[0m\u001b[0;34m\u001b[0m\u001b[0m\n\u001b[1;32m    405\u001b[0m \u001b[0;34m\u001b[0m\u001b[0m\n\u001b[0;32m--> 406\u001b[0;31m         \u001b[0mres\u001b[0m \u001b[0;34m=\u001b[0m \u001b[0mself\u001b[0m\u001b[0;34m.\u001b[0m\u001b[0mconcatenate\u001b[0m\u001b[0;34m(\u001b[0m\u001b[0mtuple\u001b[0m\u001b[0;34m(\u001b[0m\u001b[0mobjs\u001b[0m\u001b[0;34m)\u001b[0m\u001b[0;34m,\u001b[0m \u001b[0maxis\u001b[0m\u001b[0;34m=\u001b[0m\u001b[0maxis\u001b[0m\u001b[0;34m)\u001b[0m\u001b[0;34m\u001b[0m\u001b[0;34m\u001b[0m\u001b[0m\n\u001b[0m\u001b[1;32m    407\u001b[0m \u001b[0;34m\u001b[0m\u001b[0m\n\u001b[1;32m    408\u001b[0m         \u001b[0;32mif\u001b[0m \u001b[0mmatrix\u001b[0m\u001b[0;34m:\u001b[0m\u001b[0;34m\u001b[0m\u001b[0;34m\u001b[0m\u001b[0m\n",
      "\u001b[0;32m<__array_function__ internals>\u001b[0m in \u001b[0;36mconcatenate\u001b[0;34m(*args, **kwargs)\u001b[0m\n",
      "\u001b[0;31mKeyboardInterrupt\u001b[0m: "
     ]
    }
   ],
   "source": [
    "def solve(debug = False):\n",
    "    for ebird_code in train.ebird_code.unique():\n",
    "        if(ebird_code == 'nocall'): continue\n",
    "        extract(ebird_code)\n",
    "\n",
    "        if(debug): break\n",
    "\n",
    "solve()"
   ]
  },
  {
   "cell_type": "code",
   "execution_count": null,
   "metadata": {},
   "outputs": [],
   "source": [
    "columns = ['ebird_code', 'filename', 'resampled_filename']\n",
    "ebird_code = ['nocall'] * len(fn_nocall)\n",
    "nocall_df = pd.DataFrame(zip(ebird_code, fn_nocall, fn_nocall), columns=columns)\n",
    "\n",
    "train = train.append(nocall_df)\n",
    "train.tail()"
   ]
  },
  {
   "cell_type": "code",
   "execution_count": null,
   "metadata": {},
   "outputs": [],
   "source": [
    "train.to_csv(TRAIN_5S_DIR / \"train_mod.csv\", index=False)"
   ]
  },
  {
   "cell_type": "code",
   "execution_count": null,
   "metadata": {},
   "outputs": [],
   "source": []
  }
 ],
 "metadata": {
  "kernelspec": {
   "display_name": "Python 3",
   "language": "python",
   "name": "python3"
  },
  "language_info": {
   "codemirror_mode": {
    "name": "ipython",
    "version": 3
   },
   "file_extension": ".py",
   "mimetype": "text/x-python",
   "name": "python",
   "nbconvert_exporter": "python",
   "pygments_lexer": "ipython3",
   "version": "3.6.9"
  }
 },
 "nbformat": 4,
 "nbformat_minor": 4
}
