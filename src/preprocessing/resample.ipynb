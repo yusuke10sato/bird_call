{
 "cells": [
  {
   "cell_type": "code",
   "execution_count": 1,
   "metadata": {
    "ExecuteTime": {
     "end_time": "2020-08-14T06:16:40.586151Z",
     "start_time": "2020-08-14T06:16:37.811607Z"
    }
   },
   "outputs": [],
   "source": [
    "import warnings\n",
    "from pathlib import Path\n",
    "from joblib import delayed, Parallel\n",
    "\n",
    "import librosa\n",
    "import audioread\n",
    "import soundfile as sf\n",
    "\n",
    "import pandas as pd"
   ]
  },
  {
   "cell_type": "code",
   "execution_count": 2,
   "metadata": {
    "ExecuteTime": {
     "end_time": "2020-08-14T06:17:03.138195Z",
     "start_time": "2020-08-14T06:17:03.135800Z"
    }
   },
   "outputs": [],
   "source": [
    "TARGET_SR = 32000\n",
    "NUM_THREAD = 8  # for joblib.Parallel"
   ]
  },
  {
   "cell_type": "code",
   "execution_count": 3,
   "metadata": {
    "ExecuteTime": {
     "end_time": "2020-08-14T06:21:13.323422Z",
     "start_time": "2020-08-14T06:21:12.782744Z"
    }
   },
   "outputs": [],
   "source": [
    "# 元データ\n",
    "TRAIN_AUDIO_DIR = Path(\"../../../../input//birdsong-recognition/train_audio/\")\n",
    "TRAIN_RESAMPLED_DIR = Path(\"../../../../input/birdsong-recognition/train_audio_resampled/\")\n",
    "\n",
    "# # read train.csv\n",
    "train = pd.read_csv(\"../../../../input/birdsong-recognition/train.csv\")\n",
    "\n",
    "# # extract \"ebird_code\" and  \"filename\"\n",
    "train_audio_infos = train[[\"ebird_code\", \"filename\"]].values.tolist()\n",
    "\n",
    "# # make directories for saving resampled audio\n",
    "TRAIN_RESAMPLED_DIR.mkdir(parents=True)\n",
    "for ebird_code in train.ebird_code.unique():\n",
    "    ebird_dir = TRAIN_RESAMPLED_DIR / ebird_code\n",
    "    ebird_dir.mkdir()\n",
    "    \n",
    " # 追加データ\n",
    "TRAIN_AUDIO_ADD_DIR = Path(\"../../../../input/additional_data/train_audio/\")\n",
    "TRAIN_RESAMPLED_ADD_DIR = Path(\"../../../../input/additional_data/train_audio_resampled/\")\n",
    "\n",
    "# # read train_add.csv\n",
    "train_add = pd.read_csv(\"../../../../input/additional_data/train_add.csv\")\n",
    "\n",
    "# # extract \"ebird_code\" and  \"filename\"\n",
    "train_audio_infos_add = train_add[[\"ebird_code\", \"filename\"]].values.tolist()\n",
    "\n",
    "# # make directories for saving resampled audio\n",
    "TRAIN_RESAMPLED_ADD_DIR.mkdir(parents=True)\n",
    "for ebird_code in train_add.ebird_code.unique():\n",
    "    ebird_dir = TRAIN_RESAMPLED_ADD_DIR / ebird_code\n",
    "    ebird_dir.mkdir()"
   ]
  },
  {
   "cell_type": "code",
   "execution_count": 5,
   "metadata": {
    "ExecuteTime": {
     "end_time": "2020-08-14T06:26:56.476165Z",
     "start_time": "2020-08-14T06:26:56.469698Z"
    }
   },
   "outputs": [],
   "source": [
    "# # define resampling function\n",
    "warnings.simplefilter(\"ignore\")\n",
    "def resample(ebird_code: str, filename: str, target_sr: int, audio_dir: str, resample_dir: str):    \n",
    "    ebird_dir = resample_dir / ebird_code\n",
    "\n",
    "    try:\n",
    "        y, _ = librosa.load(\n",
    "            audio_dir / ebird_code / filename,\n",
    "            sr=target_sr, mono=True, res_type=\"kaiser_fast\")\n",
    "\n",
    "        filename = filename.replace(\".mp3\", \".wav\")\n",
    "        sf.write(ebird_dir / filename, y, samplerate=target_sr)\n",
    "        return \"OK\"\n",
    "    except Exception as e:\n",
    "        with open(resample_dir / \"skipped.txt\", \"a\") as f:\n",
    "            file_path = str(audio_dir / ebird_code / filename)\n",
    "            f.write(file_path + \"\\n\")\n",
    "        return str(e)"
   ]
  },
  {
   "cell_type": "markdown",
   "metadata": {},
   "source": [
    " ## resample for original data"
   ]
  },
  {
   "cell_type": "code",
   "execution_count": 9,
   "metadata": {
    "ExecuteTime": {
     "end_time": "2020-07-28T07:25:11.017121Z",
     "start_time": "2020-07-28T06:45:46.374960Z"
    }
   },
   "outputs": [
    {
     "name": "stderr",
     "output_type": "stream",
     "text": [
      "[Parallel(n_jobs=8)]: Using backend LokyBackend with 8 concurrent workers.\n",
      "[Parallel(n_jobs=8)]: Done  34 tasks      | elapsed:    6.4s\n",
      "[Parallel(n_jobs=8)]: Done 184 tasks      | elapsed:   23.5s\n",
      "[Parallel(n_jobs=8)]: Done 434 tasks      | elapsed:   51.6s\n",
      "[Parallel(n_jobs=8)]: Done 784 tasks      | elapsed:  1.4min\n",
      "[Parallel(n_jobs=8)]: Done 1234 tasks      | elapsed:  2.3min\n",
      "[Parallel(n_jobs=8)]: Done 1784 tasks      | elapsed:  3.4min\n",
      "[Parallel(n_jobs=8)]: Done 2434 tasks      | elapsed:  4.6min\n",
      "[Parallel(n_jobs=8)]: Done 3184 tasks      | elapsed:  6.0min\n",
      "[Parallel(n_jobs=8)]: Done 4034 tasks      | elapsed:  7.6min\n",
      "[Parallel(n_jobs=8)]: Done 4984 tasks      | elapsed:  9.6min\n",
      "[Parallel(n_jobs=8)]: Done 6034 tasks      | elapsed: 11.5min\n",
      "[Parallel(n_jobs=8)]: Done 7184 tasks      | elapsed: 13.5min\n",
      "[Parallel(n_jobs=8)]: Done 8434 tasks      | elapsed: 15.8min\n",
      "[Parallel(n_jobs=8)]: Done 9784 tasks      | elapsed: 18.2min\n",
      "[Parallel(n_jobs=8)]: Done 11234 tasks      | elapsed: 20.9min\n",
      "[Parallel(n_jobs=8)]: Done 12784 tasks      | elapsed: 23.6min\n",
      "[Parallel(n_jobs=8)]: Done 14434 tasks      | elapsed: 26.7min\n",
      "[Parallel(n_jobs=8)]: Done 16184 tasks      | elapsed: 29.7min\n",
      "[Parallel(n_jobs=8)]: Done 18034 tasks      | elapsed: 33.1min\n",
      "[Parallel(n_jobs=8)]: Done 19984 tasks      | elapsed: 36.9min\n",
      "[Parallel(n_jobs=8)]: Done 21375 out of 21375 | elapsed: 39.4min finished\n"
     ]
    }
   ],
   "source": [
    "# # resample and save audio using Parallel\n",
    "msg_list = Parallel(n_jobs=NUM_THREAD, verbose=1)(\n",
    "    delayed(resample)(ebird_code, file_name, TARGET_SR, TRAIN_AUDIO_DIR, TRAIN_RESAMPLED_DIR) for ebird_code, file_name in train_audio_infos)\n",
    "\n",
    "# # add information of resampled audios to train.csv\n",
    "train[\"resampled_sampling_rate\"] = TARGET_SR\n",
    "train[\"resampled_filename\"] = train[\"filename\"].map(\n",
    "    lambda x: x.replace(\".mp3\", \".wav\"))\n",
    "train[\"resampled_channels\"] = \"1 (mono)\"\n",
    "\n",
    "train.to_csv(TRAIN_RESAMPLED_DIR / \"train_mod.csv\", index=False)"
   ]
  },
  {
   "cell_type": "markdown",
   "metadata": {},
   "source": [
    " ## resample for additional data"
   ]
  },
  {
   "cell_type": "code",
   "execution_count": 6,
   "metadata": {
    "ExecuteTime": {
     "end_time": "2020-08-14T07:29:34.669068Z",
     "start_time": "2020-08-14T06:28:35.228296Z"
    }
   },
   "outputs": [
    {
     "name": "stderr",
     "output_type": "stream",
     "text": [
      "[Parallel(n_jobs=8)]: Using backend LokyBackend with 8 concurrent workers.\n",
      "[Parallel(n_jobs=8)]: Done  34 tasks      | elapsed:    7.0s\n",
      "[Parallel(n_jobs=8)]: Done 184 tasks      | elapsed:   23.9s\n",
      "[Parallel(n_jobs=8)]: Done 434 tasks      | elapsed:  1.0min\n",
      "[Parallel(n_jobs=8)]: Done 784 tasks      | elapsed:  1.9min\n",
      "[Parallel(n_jobs=8)]: Done 1234 tasks      | elapsed:  3.3min\n",
      "[Parallel(n_jobs=8)]: Done 1784 tasks      | elapsed:  4.6min\n",
      "[Parallel(n_jobs=8)]: Done 2434 tasks      | elapsed:  6.0min\n",
      "[Parallel(n_jobs=8)]: Done 3184 tasks      | elapsed:  7.7min\n",
      "[Parallel(n_jobs=8)]: Done 4034 tasks      | elapsed:  9.9min\n",
      "[Parallel(n_jobs=8)]: Done 4984 tasks      | elapsed: 12.2min\n",
      "[Parallel(n_jobs=8)]: Done 6034 tasks      | elapsed: 15.1min\n",
      "[Parallel(n_jobs=8)]: Done 7184 tasks      | elapsed: 17.7min\n",
      "[Parallel(n_jobs=8)]: Done 8434 tasks      | elapsed: 21.9min\n",
      "[Parallel(n_jobs=8)]: Done 9784 tasks      | elapsed: 25.4min\n",
      "[Parallel(n_jobs=8)]: Done 11234 tasks      | elapsed: 29.5min\n",
      "[Parallel(n_jobs=8)]: Done 12784 tasks      | elapsed: 34.2min\n",
      "[Parallel(n_jobs=8)]: Done 14434 tasks      | elapsed: 38.2min\n",
      "[Parallel(n_jobs=8)]: Done 16184 tasks      | elapsed: 42.8min\n",
      "[Parallel(n_jobs=8)]: Done 18034 tasks      | elapsed: 47.3min\n",
      "[Parallel(n_jobs=8)]: Done 19984 tasks      | elapsed: 52.8min\n",
      "[Parallel(n_jobs=8)]: Done 22034 tasks      | elapsed: 58.4min\n",
      "[Parallel(n_jobs=8)]: Done 23041 out of 23041 | elapsed: 61.0min finished\n"
     ]
    }
   ],
   "source": [
    "# # resample and save audio using Parallel\n",
    "msg_list = Parallel(n_jobs=NUM_THREAD, verbose=1)(\n",
    "    delayed(resample)(ebird_code, file_name, TARGET_SR, TRAIN_AUDIO_ADD_DIR, TRAIN_RESAMPLED_ADD_DIR) for ebird_code, file_name in train_audio_infos_add)\n",
    "\n",
    "# # add information of resampled audios to train.csv\n",
    "train_add[\"resampled_sampling_rate\"] = TARGET_SR\n",
    "train_add[\"resampled_filename\"] = train_add[\"filename\"].map(\n",
    "    lambda x: x.replace(\".mp3\", \".wav\"))\n",
    "train_add[\"resampled_channels\"] = \"1 (mono)\"\n",
    "\n",
    "train_add.to_csv(TRAIN_RESAMPLED_ADD_DIR / \"train_add_mod.csv\", index=False)"
   ]
  },
  {
   "cell_type": "code",
   "execution_count": null,
   "metadata": {},
   "outputs": [],
   "source": []
  }
 ],
 "metadata": {
  "kernelspec": {
   "display_name": "Python 3",
   "language": "python",
   "name": "python3"
  },
  "language_info": {
   "codemirror_mode": {
    "name": "ipython",
    "version": 3
   },
   "file_extension": ".py",
   "mimetype": "text/x-python",
   "name": "python",
   "nbconvert_exporter": "python",
   "pygments_lexer": "ipython3",
   "version": "3.6.8"
  },
  "toc": {
   "base_numbering": 1,
   "nav_menu": {},
   "number_sections": true,
   "sideBar": true,
   "skip_h1_title": false,
   "title_cell": "Table of Contents",
   "title_sidebar": "Contents",
   "toc_cell": false,
   "toc_position": {},
   "toc_section_display": true,
   "toc_window_display": false
  },
  "varInspector": {
   "cols": {
    "lenName": 16,
    "lenType": 16,
    "lenVar": 40
   },
   "kernels_config": {
    "python": {
     "delete_cmd_postfix": "",
     "delete_cmd_prefix": "del ",
     "library": "var_list.py",
     "varRefreshCmd": "print(var_dic_list())"
    },
    "r": {
     "delete_cmd_postfix": ") ",
     "delete_cmd_prefix": "rm(",
     "library": "var_list.r",
     "varRefreshCmd": "cat(var_dic_list()) "
    }
   },
   "types_to_exclude": [
    "module",
    "function",
    "builtin_function_or_method",
    "instance",
    "_Feature"
   ],
   "window_display": false
  }
 },
 "nbformat": 4,
 "nbformat_minor": 2
}
